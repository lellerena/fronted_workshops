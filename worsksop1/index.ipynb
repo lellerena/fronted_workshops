{
 "cells": [
  {
   "cell_type": "code",
   "execution_count": 5,
   "metadata": {},
   "outputs": [
    {
     "name": "stdout",
     "output_type": "stream",
     "text": [
      "Tag counts:\n",
      "h3: 104\n",
      "h1: 1\n",
      "h2: 13\n"
     ]
    }
   ],
   "source": [
    "from bs4 import BeautifulSoup\n",
    "import requests\n",
    "\n",
    "def count_tags(url):\n",
    "  \"\"\"\n",
    "  Scrapes a webpage and counts the occurrences of each HTML tag.\n",
    "\n",
    "  Args:\n",
    "    url: The URL of the webpage to scrape.\n",
    "\n",
    "  Returns:\n",
    "    A dictionary where keys are tag names and values are their counts,\n",
    "    or None if there's an error.\n",
    "  \"\"\"\n",
    "  try:\n",
    "    response = requests.get(url)\n",
    "    response.raise_for_status()  # Raise an exception for bad status codes\n",
    "\n",
    "    soup = BeautifulSoup(response.content, 'html.parser')\n",
    "    tag_counts = {}\n",
    "    for tag in soup.find_all(True):  # Find all tags\n",
    "      tag_name = tag.name\n",
    "      tag_counts[tag_name] = tag_counts.get(tag_name, 0) + 1\n",
    "\n",
    "    return tag_counts\n",
    "  except requests.exceptions.RequestException as e:\n",
    "    print(f\"Error fetching URL: {e}\")\n",
    "    return None\n",
    "  except Exception as e:\n",
    "    print(f\"An unexpected error occurred: {e}\")\n",
    "    return None\n",
    "\n",
    "\n",
    "if __name__ == \"__main__\":\n",
    "  target_url = input(\"Enter the URL to scrape: \")\n",
    "  tag_counts = count_tags(target_url)\n",
    "  tags = [\"h1\", \"h2\", \"h3\"]\n",
    "\n",
    "  if tag_counts:\n",
    "    print(\"Tag counts:\")\n",
    "    for tag, count in tag_counts.items():\n",
    "      if tag in tags:\n",
    "      \tprint(f\"{tag}: {count}\")"
   ]
  }
 ],
 "metadata": {
  "language_info": {
   "name": "python"
  }
 },
 "nbformat": 4,
 "nbformat_minor": 2
}
